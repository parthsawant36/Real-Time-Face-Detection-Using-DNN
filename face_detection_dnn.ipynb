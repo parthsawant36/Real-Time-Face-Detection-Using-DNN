{
 "cells": [
  {
   "cell_type": "code",
   "execution_count": 1,
   "id": "2e66efbf-13ee-4322-b06e-38e6582e1159",
   "metadata": {},
   "outputs": [],
   "source": [
    "import cv2 as cv\n",
    "import numpy as np \n",
    "import time"
   ]
  },
  {
   "cell_type": "code",
   "execution_count": 11,
   "id": "0f6f470e-31d1-4bc7-991c-f1fe6f00b7ba",
   "metadata": {},
   "outputs": [],
   "source": [
    "img1 = cv.imread('./Project_FaceDetection_with_DNN_opencv/faces.jpg')"
   ]
  },
  {
   "cell_type": "code",
   "execution_count": 13,
   "id": "1ce94c4e-62d8-4a60-9e41-ccb76b1a1fd5",
   "metadata": {},
   "outputs": [],
   "source": [
    "cv.imshow(\"Faces\" , img1)\n",
    "cv.waitKey(10000)\n",
    "cv.destroyAllWindows()"
   ]
  },
  {
   "cell_type": "code",
   "execution_count": 3,
   "id": "c0ea3ffe-e559-4d37-bda8-4aa5f28f7dc1",
   "metadata": {},
   "outputs": [],
   "source": [
    "face_detection_model = cv.dnn.readNetFromCaffe('./models/deploy.prototxt.txt' , \n",
    "                                               './models/res10_300x300_ssd_iter_140000_fp16.caffemodel')"
   ]
  },
  {
   "cell_type": "code",
   "execution_count": 9,
   "id": "52719acb-7495-4ed6-acd9-da1a7f991ace",
   "metadata": {},
   "outputs": [],
   "source": [
    "def face_detector_dnn(img) :\n",
    "    image = img.copy()\n",
    "    face_detection_model = cv.dnn.readNetFromCaffe('./models/deploy.prototxt.txt' , \n",
    "                                               './models/res10_300x300_ssd_iter_140000_fp16.caffemodel')\n",
    "    #blob from image\n",
    "    blob = cv.dnn.blobFromImage(img , 1 , (300,300) , (104,177,123) , swapRB = True)\n",
    "    #set blob as input \n",
    "    face_detection_model.setInput(blob)\n",
    "    #get output\n",
    "    detections = face_detection_model.forward()\n",
    "    \n",
    "#drawing bouding box on face\n",
    "   \n",
    "    face_count = 0\n",
    "    h,w = image.shape[:2]\n",
    "    for i in range ( 0 , detections.shape[2]) :\n",
    "        confidence = detections[0,0,i,2]\n",
    "        if confidence > 0.5 :\n",
    "            face_count += 1\n",
    "            #extract diagonal points\n",
    "            box = detections[0,0,i,3:7]*np.array([w,h,w,h])\n",
    "            box = box.astype('int')\n",
    "            # print(box)\n",
    "            pt1 = (box[0],box[1])\n",
    "            pt2 = (box[2],box[3])\n",
    "            cv.rectangle(image , pt1 , pt2 , (255,255,255) ,2)\n",
    "    \n",
    "            text = 'score : {:.0f}%'.format(confidence*100)\n",
    "           \n",
    "            cv.putText(image , text , pt1,cv.FONT_HERSHEY_SIMPLEX,1, (0,255,0) , 1)\n",
    "        \n",
    "    return image"
   ]
  },
  {
   "cell_type": "code",
   "execution_count": 43,
   "id": "5002747a-3e89-4333-9bd0-d3ab33cf1ddf",
   "metadata": {},
   "outputs": [],
   "source": [
    "image1 = face_detector_dnn(img1)"
   ]
  },
  {
   "cell_type": "code",
   "execution_count": 45,
   "id": "4d236e18-04d9-4bcf-ad3f-519e9a29175a",
   "metadata": {},
   "outputs": [],
   "source": [
    "cv.imshow(\"Faces detected using dnn\" , image1)\n",
    "cv.waitKey(10000)\n",
    "cv.destroyAllWindows()"
   ]
  },
  {
   "cell_type": "code",
   "execution_count": 47,
   "id": "621e8371-6f00-49c3-b011-2cd12c681cd7",
   "metadata": {},
   "outputs": [],
   "source": [
    "#using face detection using dnn om video (webcam)\n"
   ]
  },
  {
   "cell_type": "code",
   "execution_count": 11,
   "id": "a41be481-039d-432a-a31e-908e019ba215",
   "metadata": {},
   "outputs": [],
   "source": [
    "cap = cv.VideoCapture(0)\n",
    "\n",
    "\n",
    "\n",
    "while True:\n",
    "    ret, frame = cap.read()\n",
    "    \n",
    "    if ret == False:\n",
    "        break\n",
    "        \n",
    "    img_detection = face_detector_dnn(frame)\n",
    "    \n",
    "    cv.imshow('Real Time Face Detection with DNN',img_detection)\n",
    "    if cv.waitKey(1) == ord('a'):\n",
    "        break\n",
    "        \n",
    "cap.release()\n",
    "cv.destroyAllWindows()"
   ]
  },
  {
   "cell_type": "code",
   "execution_count": null,
   "id": "711d8093-af49-4621-a4eb-ff9bde1c64d6",
   "metadata": {},
   "outputs": [],
   "source": []
  }
 ],
 "metadata": {
  "kernelspec": {
   "display_name": "Python 3 (ipykernel)",
   "language": "python",
   "name": "python3"
  },
  "language_info": {
   "codemirror_mode": {
    "name": "ipython",
    "version": 3
   },
   "file_extension": ".py",
   "mimetype": "text/x-python",
   "name": "python",
   "nbconvert_exporter": "python",
   "pygments_lexer": "ipython3",
   "version": "3.12.4"
  }
 },
 "nbformat": 4,
 "nbformat_minor": 5
}
